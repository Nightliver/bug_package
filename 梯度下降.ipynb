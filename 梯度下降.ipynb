{
 "cells": [
  {
   "cell_type": "code",
   "execution_count": 2,
   "id": "d663c45b",
   "metadata": {},
   "outputs": [],
   "source": [
    "#最速下降法实现"
   ]
  },
  {
   "cell_type": "code",
   "execution_count": 3,
   "id": "e06dc072",
   "metadata": {},
   "outputs": [],
   "source": [
    "#目标函数：f(x) =  x*x + 1\n",
    "#输出：最小值点"
   ]
  },
  {
   "cell_type": "code",
   "execution_count": 6,
   "id": "d7198e40",
   "metadata": {},
   "outputs": [],
   "source": [
    "import numpy as np\n",
    "import matplotlib.pyplot as plt"
   ]
  },
  {
   "cell_type": "code",
   "execution_count": 7,
   "id": "691c7dd7",
   "metadata": {},
   "outputs": [
    {
     "name": "stdout",
     "output_type": "stream",
     "text": [
      "4\n"
     ]
    }
   ],
   "source": [
    "def f(x):\n",
    "    return x*x+1\n",
    "def d(x):\n",
    "    return 2*x"
   ]
  },
  {
   "cell_type": "code",
   "execution_count": 19,
   "id": "6d130327",
   "metadata": {},
   "outputs": [
    {
     "name": "stdout",
     "output_type": "stream",
     "text": [
      "0.0004925586010624604\n",
      "1.0000002426139756\n"
     ]
    }
   ],
   "source": [
    "def grandient_descent(x = 0.1,learn_rate = 0.01,e = 0.001):\n",
    "    flag = True\n",
    "    if abs(d(x)) < e :\n",
    "        return x\n",
    "    else:\n",
    "        while(flag):\n",
    "            x = x - learn_rate * d(x)\n",
    "            if abs(d(x)) < e :\n",
    "                flag = False\n",
    "                return x \n",
    "min = grandient_descent()\n",
    "miny = f(min)\n",
    "print(min)\n",
    "print(miny)"
   ]
  }
 ],
 "metadata": {
  "kernelspec": {
   "display_name": "Python 3 (ipykernel)",
   "language": "python",
   "name": "python3"
  },
  "language_info": {
   "codemirror_mode": {
    "name": "ipython",
    "version": 3
   },
   "file_extension": ".py",
   "mimetype": "text/x-python",
   "name": "python",
   "nbconvert_exporter": "python",
   "pygments_lexer": "ipython3",
   "version": "3.9.7"
  }
 },
 "nbformat": 4,
 "nbformat_minor": 5
}
